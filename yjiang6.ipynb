{
 "cells": [
  {
   "cell_type": "markdown",
   "metadata": {},
   "source": [
    "# COMP90051 Project 2"
   ]
  },
  {
   "cell_type": "code",
   "execution_count": 2,
   "metadata": {
    "collapsed": true
   },
   "outputs": [],
   "source": [
    "# Do not edit. These are the only imports permitted.\n",
    "%matplotlib inline\n",
    "import numpy as np\n",
    "from numpy.linalg import inv\n",
    "import matplotlib.pyplot as plt\n",
    "from abc import ABC, abstractmethod"
   ]
  },
  {
   "cell_type": "markdown",
   "metadata": {},
   "source": [
    "## 1. Implement ε-Greedy and UCB"
   ]
  },
  {
   "cell_type": "code",
   "execution_count": 3,
   "metadata": {
    "collapsed": true
   },
   "outputs": [],
   "source": [
    "class MAB(ABC):\n",
    "    \"\"\"\n",
    "    Abstract class that represents a multi-armed bandit (MAB)\n",
    "    \"\"\"\n",
    "    \n",
    "    @abstractmethod\n",
    "    def play(self, tround, context):\n",
    "        \"\"\"\n",
    "        Play a round\n",
    "        \n",
    "        Arguments\n",
    "        =========\n",
    "        tround : int\n",
    "            positive integer identifying the round\n",
    "        \n",
    "        context : 1D float array, shape (self.ndims * self.narms), optional\n",
    "            context given to the arms\n",
    "        \n",
    "        Returns\n",
    "        =======\n",
    "        arm : int\n",
    "            the positive integer arm id for this round\n",
    "        \"\"\"\n",
    "        \n",
    "        \n",
    "        pass\n",
    "    \n",
    "    @abstractmethod\n",
    "    def update(self, arm, reward, context):\n",
    "        \"\"\"\n",
    "        Updates the internal state of the MAB after a play\n",
    "        \n",
    "        Arguments\n",
    "        =========\n",
    "        arm : int\n",
    "            a positive integer arm id in {1, ..., self.narms}\n",
    "        \n",
    "        reward : float\n",
    "            reward received from arm\n",
    "        \n",
    "        context : 1D float array, shape (self.ndims * self.narms), optional\n",
    "            context given to arms\n",
    "        \"\"\"\n",
    "        pass"
   ]
  },
  {
   "cell_type": "code",
   "execution_count": 4,
   "metadata": {
    "collapsed": false
   },
   "outputs": [],
   "source": [
    "class EpsGreedy(MAB):\n",
    "    \"\"\"\n",
    "    Epsilon-Greedy multi-armed bandit\n",
    "\n",
    "    Arguments\n",
    "    =========\n",
    "    narms : int\n",
    "        number of arms\n",
    "\n",
    "    epsilon : float\n",
    "        explore probability\n",
    "\n",
    "    Q0 : float, optional\n",
    "        initial value for the arms\n",
    "    \"\"\"\n",
    "\n",
    "    def __init__(self, narms, epsilon, Q0=np.inf):\n",
    "        self.narms = narms\n",
    "        self.epsilon = epsilon\n",
    "        self.values = [Q0 for col in range(narms)]\n",
    "        self.counts = [0 for col in range(narms)]\n",
    "\n",
    "    def play(self, tround, context=None):\n",
    "        if np.random.random() > self.epsilon:\n",
    "            #Exploit\n",
    "            max_index = [index + 1 for index, value in enumerate(self.values) if value == max(self.values)]\n",
    "            return max_index[np.random.randint(len(max_index))]\n",
    "        else:\n",
    "            # Explore \n",
    "            return np.random.randint(self.narms) + 1\n",
    "\n",
    "    def update(self, arm, reward, context=None):\n",
    "        if self.counts[arm] == 0:\n",
    "            self.values[arm] = 0\n",
    "        self.counts[arm] = self.counts[arm] + 1\n",
    "        n = self.counts[arm]\n",
    "        value = self.values[arm]\n",
    "        if value == np.inf:\n",
    "            value = 0\n",
    "        new_value = ((n - 1) * value + reward) / float(n)\n",
    "        #update the new value to the list\n",
    "        self.values[arm] = new_value"
   ]
  },
  {
   "cell_type": "code",
   "execution_count": 5,
   "metadata": {
    "collapsed": false
   },
   "outputs": [],
   "source": [
    "class UCB(MAB):\n",
    "    \"\"\"\n",
    "    Upper Confidence Bound (UCB) multi-armed bandit\n",
    "\n",
    "    Arguments\n",
    "    =========\n",
    "    narms : int\n",
    "        number of arms\n",
    "\n",
    "    rho : float\n",
    "        positive real explore-exploit parameter\n",
    "\n",
    "    Q0 : float, optional\n",
    "        initial value for the arms\n",
    "    \"\"\"\n",
    "\n",
    "    def __init__(self, narms, rho, Q0=np.inf):\n",
    "        self.narms = narms\n",
    "        self.rho = rho\n",
    "        self.counts = [0 for col in range(narms)]\n",
    "        self.values = [Q0 for col in range(narms)]\n",
    "        self.Q0 = Q0\n",
    "\n",
    "\n",
    "    def play(self, tround, context=None):\n",
    "        ucb_values = [0.0 for arm in range(self.narms)]\n",
    "        for arm in range(self.narms):\n",
    "            if self.counts[arm] == 0:\n",
    "                ucb_values[arm] = self.Q0\n",
    "            else:\n",
    "                standard_deviation = np.sqrt((self.rho * np.log(tround)) / float(self.counts[arm]))\n",
    "                ucb_values[arm] = self.values[arm] + standard_deviation\n",
    "        max_index = [index + 1 for index, value in enumerate(ucb_values) if value == max(ucb_values)]\n",
    "        return max_index[np.random.randint(len(max_index))]\n",
    "\n",
    "    def update(self, arm, reward, context=None):\n",
    "        self.counts[arm] = self.counts[arm] + 1\n",
    "        n = self.counts[arm]\n",
    "        value = self.values[arm]\n",
    "        if value == np.inf:\n",
    "            value = 0\n",
    "        new_value = ((n - 1) * value + reward) / float(n)\n",
    "        #update the new value to the list\n",
    "        self.values[arm] = new_value"
   ]
  },
  {
   "cell_type": "markdown",
   "metadata": {},
   "source": [
    "## 2. Off-Policy Evaluation"
   ]
  },
  {
   "cell_type": "code",
   "execution_count": 6,
   "metadata": {
    "collapsed": true
   },
   "outputs": [],
   "source": [
    "def offlineEvaluate(mab, arms, rewards, contexts, nrounds=None):\n",
    "    \"\"\"\n",
    "    Offline evaluation of a multi-armed bandit\n",
    "\n",
    "    Arguments\n",
    "    =========\n",
    "    mab : instance of MAB\n",
    "\n",
    "    arms : 1D int array, shape (nevents,)\n",
    "        integer arm id for each event\n",
    "\n",
    "    rewards : 1D float array, shape (nevents,)\n",
    "        reward received for each event\n",
    "\n",
    "    contexts : 2D float array, shape (nevents, mab.narms*nfeatures)\n",
    "        contexts presented to the arms (stacked horizontally)\n",
    "        for each event.\n",
    "\n",
    "    nrounds : int, optional\n",
    "        number of matching events to evaluate `mab` on.\n",
    "\n",
    "    Returns\n",
    "    =======\n",
    "    out : 1D float array\n",
    "        rewards for the matching events\n",
    "    \"\"\"\n",
    "    reward_list = []\n",
    "    index=0\n",
    "    for i in range(1,nrounds+1):\n",
    "        while True:\n",
    "            if index > len(arms):\n",
    "                return reward_list\n",
    "            arm = mab.play(i, contexts[index])\n",
    "            if(arm == arms[index]):\n",
    "                mab.update(arms[index] - 1, rewards[index], contexts[index])\n",
    "                # arms numbers in dataset in dataset are from 1 to 10. but in list are from 0 to 9\n",
    "                reward_list.append(rewards[index])\n",
    "                index+=1\n",
    "                break\n",
    "            else:\n",
    "                index+=1\n",
    "    return reward_list"
   ]
  },
  {
   "cell_type": "code",
   "execution_count": 7,
   "metadata": {
    "collapsed": true
   },
   "outputs": [],
   "source": [
    "events={'arms':[],'rewards':[],'contexts':[]}\n",
    "# load the data from txt\n",
    "with open(\"dataset.txt\",\"r\") as f:\n",
    "    for line in f:\n",
    "        sub = line.split(\" \")\n",
    "        events['arms'].append(int(sub[0]))\n",
    "        events['rewards'].append(float(sub[1]))\n",
    "        events['contexts'].append((sub[2:102]))\n",
    "\n",
    "arms = events['arms']\n",
    "rewards = events['rewards']\n",
    "contexts = np.array(events['contexts'],float)"
   ]
  },
  {
   "cell_type": "code",
   "execution_count": 8,
   "metadata": {
    "collapsed": false
   },
   "outputs": [
    {
     "name": "stdout",
     "output_type": "stream",
     "text": [
      "EpsGreedy average reward 0.24\n"
     ]
    }
   ],
   "source": [
    "mab = EpsGreedy(10, 0.05)\n",
    "results_EpsGreedy = offlineEvaluate(mab, arms, rewards, contexts, 800)\n",
    "print('EpsGreedy average reward', np.mean(results_EpsGreedy))"
   ]
  },
  {
   "cell_type": "code",
   "execution_count": 9,
   "metadata": {
    "collapsed": false
   },
   "outputs": [
    {
     "name": "stdout",
     "output_type": "stream",
     "text": [
      "UCB average reward 0.1725\n"
     ]
    }
   ],
   "source": [
    "mab = UCB(10, 1.0)\n",
    "results_UCB = offlineEvaluate(mab, arms, rewards, contexts, 800)\n",
    "print('UCB average reward', np.mean(results_UCB))"
   ]
  },
  {
   "cell_type": "markdown",
   "metadata": {},
   "source": [
    "## 3. Contextual Bandits"
   ]
  },
  {
   "cell_type": "code",
   "execution_count": 10,
   "metadata": {
    "collapsed": false
   },
   "outputs": [],
   "source": [
    "class LinUCB(MAB):\n",
    "    \"\"\"\n",
    "    Contextual multi-armed bandit (LinUCB)\n",
    "\n",
    "    Arguments\n",
    "    =========\n",
    "    narms : int\n",
    "        number of armsa\n",
    "\n",
    "    ndims : int\n",
    "        number of dimensions for each arm's context\n",
    "\n",
    "    alpha : float\n",
    "        positive real explore-exploit parameter\n",
    "    \"\"\"\n",
    "\n",
    "    def __init__(self, narms, ndims, alpha):\n",
    "        self.narms = narms\n",
    "        self.ndims = ndims\n",
    "        self.alpha = alpha\n",
    "        self.counts = [0 for col in range(narms)]\n",
    "        self.A = np.zeros((narms, ndims, ndims))\n",
    "        self.b = np.zeros((narms, ndims))\n",
    "        self.p = np.empty(self.narms)\n",
    "\n",
    "    def play(self, tround, context):\n",
    "        context = context.reshape(self.narms, self.ndims)\n",
    "        for arm in range(self.narms):\n",
    "\n",
    "            if self.counts[arm] == 0:\n",
    "                #when arm is new, Initialize matrix and update the arm counts\n",
    "                self.A[arm] = np.eye(self.ndims)\n",
    "                self.counts[arm] +=1\n",
    "            theta = (inv(self.A[arm]).dot(self.b[arm]))\n",
    "            self.p[arm] = theta.dot(context[arm]) + self.alpha * np.sqrt(\n",
    "                (context[arm]).dot(inv(self.A[arm])).dot(context[arm]))\n",
    "        max_index = [index + 1 for index, value in enumerate(self.p) if value == max(self.p)]\n",
    "        return max_index[np.random.randint(len(max_index))]\n",
    "\n",
    "    def update(self, arm, reward, context):\n",
    "        context = context.reshape(self.narms, self.ndims)\n",
    "        self.A[arm] += np.outer(context[arm],context[arm])\n",
    "        self.b[arm] += reward * context[arm]\n",
    "        #update values of two lists"
   ]
  },
  {
   "cell_type": "code",
   "execution_count": 11,
   "metadata": {
    "collapsed": false
   },
   "outputs": [
    {
     "name": "stdout",
     "output_type": "stream",
     "text": [
      "LinUCB average reward 0.53\n"
     ]
    }
   ],
   "source": [
    "mab = LinUCB(10, 10, 1.0)\n",
    "results_LinUCB = offlineEvaluate(mab, arms, rewards, contexts, 800)\n",
    "print('LinUCB average reward', np.mean(results_LinUCB))"
   ]
  },
  {
   "cell_type": "markdown",
   "metadata": {},
   "source": [
    "## 4. Evaluation\n",
    "### 4.A."
   ]
  },
  {
   "cell_type": "code",
   "execution_count": 12,
   "metadata": {
    "collapsed": true
   },
   "outputs": [],
   "source": [
    "def calculate(results_LinUCB, rounds):\n",
    "    #calculate the cummulative sum of the list\n",
    "    cummulative_list = []\n",
    "    for round in rounds:\n",
    "        value = np.sum(results_LinUCB[:round])/round\n",
    "        cummulative_list.append(value)\n",
    "    return cummulative_list"
   ]
  },
  {
   "cell_type": "code",
   "execution_count": 13,
   "metadata": {
    "collapsed": false
   },
   "outputs": [
    {
     "data": {
      "text/plain": [
       "<matplotlib.legend.Legend at 0x1066bb710>"
      ]
     },
     "execution_count": 13,
     "metadata": {},
     "output_type": "execute_result"
    },
    {
     "data": {
      "image/png": "[encoded data removed]",
      "text/plain": [
       "<Figure size 432x288 with 1 Axes>"
      ]
     },
     "metadata": {},
     "output_type": "display_data"
    }
   ],
   "source": [
    "rounds = np.arange(800) + 1\n",
    "plt.plot(rounds, calculate(results_EpsGreedy,rounds), label = 'EpsGreedy')\n",
    "plt.plot(rounds, calculate(results_UCB, rounds), label = 'UCB')\n",
    "plt.plot(rounds, calculate(results_LinUCB,rounds), label='LinUCB')\n",
    "plt.legend()"
   ]
  },
  {
   "cell_type": "markdown",
   "metadata": {},
   "source": [
    "### 4.B."
   ]
  },
  {
   "cell_type": "code",
   "execution_count": 14,
   "metadata": {
    "collapsed": true
   },
   "outputs": [],
   "source": [
    "alpha_list = np.linspace(0, 1, 50)\n",
    "#set a list to record the value of alpha from 0 to 1\n",
    "rewards_list = []\n",
    "for alpha in alpha_list:\n",
    "    rewards_list.append(np.mean(offlineEvaluate(LinUCB(10, 10, alpha), arms, rewards, contexts, 800)))\n"
   ]
  },
  {
   "cell_type": "code",
   "execution_count": 24,
   "metadata": {
    "collapsed": false
   },
   "outputs": [
    {
     "name": "stdout",
     "output_type": "stream",
     "text": [
      "When the value of alpha is 0.020, the LinUCB works best. The best mean reward is 0.723.\n"
     ]
    },
    {
     "data": {
      "image/png": "[encoded data removed]",
      "text/plain": [
       "<Figure size 432x288 with 1 Axes>"
      ]
     },
     "metadata": {},
     "output_type": "display_data"
    }
   ],
   "source": [
    "plt.title('The Figure Shows LinUCB in Different Alpha')\n",
    "plt.plot(alpha_list,rewards_list)\n",
    "plt.xlabel('alpha')\n",
    "plt.ylabel('mean reward')\n",
    "\n",
    "best_reward = np.max(rewards_list)\n",
    "best_index = np.argmax(rewards_list)\n",
    "best_alpha = alpha_list[best_index]\n",
    "print(\"When the value of alpha is %0.3f, the LinUCB works best. The best mean reward is %0.3f.\" % (best_alpha, best_reward))"
   ]
  },
  {
   "cell_type": "markdown",
   "metadata": {},
   "source": [
    "## 5. KernelUCB"
   ]
  },
  {
   "cell_type": "code",
   "execution_count": null,
   "metadata": {
    "collapsed": true
   },
   "outputs": [],
   "source": [
    "# Do not edit. Special import for this section.\n",
    "from sklearn.metrics.pairwise import rbf_kernel"
   ]
  },
  {
   "cell_type": "code",
   "execution_count": null,
   "metadata": {
    "collapsed": true
   },
   "outputs": [],
   "source": [
    "class KernelUCB(MAB):\n",
    "    \"\"\"\n",
    "    Kernelised contextual multi-armed bandit (Kernelised LinUCB)\n",
    "    \n",
    "    Arguments\n",
    "    =========\n",
    "    narms : int\n",
    "        number of arms\n",
    "\n",
    "    ndims : int\n",
    "        number of dimensions for each arm's context\n",
    "\n",
    "    gamma : float\n",
    "        positive real explore-exploit parameter\n",
    "    \n",
    "    eta : float\n",
    "        positive real explore-exploit parameter\n",
    "    \n",
    "    kern : callable\n",
    "        a kernel function from sklearn.metrics.pairwise\n",
    "    \"\"\"\n",
    "    def __init__(self, narms, ndims, gamma, eta, kern):\n",
    "        \n",
    "    \n",
    "    def play(self, tround, context):\n",
    "        \n",
    "    \n",
    "    def update(self, arm, reward, context):\n",
    "        \n",
    "    "
   ]
  }
 ],
 "metadata": {
  "kernelspec": {
   "display_name": "Python 3",
   "language": "python",
   "name": "python3"
  },
  "language_info": {
   "codemirror_mode": {
    "name": "ipython",
    "version": 3
   },
   "file_extension": ".py",
   "mimetype": "text/x-python",
   "name": "python",
   "nbconvert_exporter": "python",
   "pygments_lexer": "ipython3",
   "version": "3.6.0"
  }
 },
 "nbformat": 4,
 "nbformat_minor": 2
}
